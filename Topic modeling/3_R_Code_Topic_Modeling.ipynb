{
  "nbformat": 4,
  "nbformat_minor": 0,
  "metadata": {
    "colab": {
      "provenance": []
    },
    "kernelspec": {
      "name": "ir",
      "display_name": "R"
    },
    "language_info": {
      "name": "R"
    }
  },
  "cells": [
    {
      "cell_type": "markdown",
      "source": [
        "# 1. Install and load all necessary packages"
      ],
      "metadata": {
        "id": "4F1FMDKl1l7l"
      }
    },
    {
      "cell_type": "code",
      "execution_count": null,
      "metadata": {
        "id": "54SvWof7XGwM"
      },
      "outputs": [],
      "source": [
        "# Install relevant packages\n",
        "install.packages(\"dplyr\")\n",
        "install.packages(\"RCurl\")\n",
        "install.packages(\"quanteda\")\n",
        "install.packages(\"stm\")\n",
        "install.packages(\"reshape2\")\n",
        "install.packages(\"ggplot2\")"
      ]
    },
    {
      "cell_type": "code",
      "execution_count": null,
      "metadata": {
        "id": "xfOOPumc0qTp"
      },
      "outputs": [],
      "source": [
        "# We activate relevant packages\n",
        "library(\"dplyr\")\n",
        "library(\"RCurl\")\n",
        "library(\"quanteda\")\n",
        "library(\"stm\")\n",
        "library(\"reshape2\")\n",
        "library(\"ggplot2\")"
      ]
    },
    {
      "cell_type": "markdown",
      "source": [
        "# 2. Load & Preprocess data\n"
      ],
      "metadata": {
        "id": "LRVXm0Sr10aR"
      }
    },
    {
      "cell_type": "code",
      "source": [
        "# We load data (a csv-file with ratings and content of TV series) from the Github repository\n",
        "url = getURL(\"https://raw.githubusercontent.com/valeriehase/Salamanca-CSS-SummerSchool/main/Topic%20modeling/data_tvseries.csv\")\n",
        "data = read.csv2(text = url)"
      ],
      "metadata": {
        "id": "aHh51GXi6KGr"
      },
      "execution_count": 5,
      "outputs": []
    },
    {
      "cell_type": "code",
      "source": [
        "#Check data by inspecting first rows via head()\n",
        "head(data)"
      ],
      "metadata": {
        "id": "IRsKIIE4Bbb_"
      },
      "execution_count": null,
      "outputs": []
    },
    {
      "cell_type": "code",
      "source": [
        "#Run preprocessing steps\n",
        "tokens <- tokens(data$Description,\n",
        "                 what = \"word\",\n",
        "                 remove_punct = TRUE,\n",
        "                 remove_numbers = TRUE) %>%\n",
        "          tokens_tolower() %>%\n",
        "          tokens_remove(stopwords(\"english\")) %>%\n",
        "          tokens_wordstem()\n",
        "\n",
        "#Additional steps: apply relative pruning\n",
        "dfm <- dfm_trim(dfm(tokens), min_docfreq = 0.005, max_docfreq = 0.99,\n",
        "                docfreq_type = \"prop\", verbose = TRUE)"
      ],
      "metadata": {
        "id": "W9D_Y7QaCaTr"
      },
      "execution_count": null,
      "outputs": []
    },
    {
      "cell_type": "code",
      "source": [
        "#Check result\n",
        "dfm"
      ],
      "metadata": {
        "id": "Ytxt9ZnQekgN"
      },
      "execution_count": null,
      "outputs": []
    },
    {
      "cell_type": "markdown",
      "source": [
        "# 3. Deciding on Model Parameters, here: K number of topics\n"
      ],
      "metadata": {
        "id": "zRjzaX8lhRbn"
      }
    },
    {
      "cell_type": "code",
      "source": [
        "#Transform to right format for stm package\n",
        "dfm_stm <- convert(dfm, to = \"stm\")"
      ],
      "metadata": {
        "id": "ZZA0P0Os3cyE"
      },
      "execution_count": 10,
      "outputs": []
    },
    {
      "cell_type": "markdown",
      "source": [
        "## Statistical Fit\n"
      ],
      "metadata": {
        "id": "hggB3Qe-e6oB"
      }
    },
    {
      "cell_type": "code",
      "source": [
        "K <- c(4,6)\n",
        "fit <- searchK(dfm_stm$documents, dfm_stm$vocab, K = K, verbose = TRUE)\n",
        "\n",
        "# Create graph\n",
        "plot <- data.frame(\"K\" = K,\n",
        "                   \"Coherence\" = unlist(fit$results$semcoh),\n",
        "                   \"Perplexity\" = unlist(fit$results$heldout))\n",
        "\n",
        "# Reshape to long format\n",
        "plot <- melt(plot, id = c(\"K\"))\n",
        "# Create graph\n",
        "plot <- data.frame(\"K\" = K,\n",
        "                   \"Coherence\" = unlist(fit$results$semcoh),\n",
        "                   \"Perplexity\" = unlist(fit$results$heldout))\n",
        "\n",
        "# Reshape to long format\n",
        "plot <- melt(plot, id = c(\"K\"))\n",
        "\n",
        "#Plot result\n",
        "ggplot(plot, aes(K, value, color = variable)) +\n",
        "  geom_line(linewidth = 1.5, show.legend = FALSE) +\n",
        "  scale_x_continuous(breaks = c(4, 6)) +\n",
        "  facet_wrap(~ variable, scales = \"free_y\") +\n",
        "  labs(x = \"Number of topics K\",\n",
        "       title = \"Statistical fit of models with different K\")"
      ],
      "metadata": {
        "collapsed": true,
        "id": "nne80ydghBno"
      },
      "execution_count": null,
      "outputs": []
    },
    {
      "cell_type": "markdown",
      "source": [
        "## Interpretability\n"
      ],
      "metadata": {
        "id": "nnLUDVqLibdv"
      }
    },
    {
      "cell_type": "code",
      "source": [
        "model_4K <- stm(documents = dfm_stm$documents,\n",
        "         vocab = dfm_stm$vocab,\n",
        "         K = 4)\n",
        "\n",
        "model_6K <- stm(documents = dfm_stm$documents,\n",
        "         vocab = dfm_stm$vocab,\n",
        "         K = 6)"
      ],
      "metadata": {
        "id": "ggr0k3ZHiI0J"
      },
      "execution_count": null,
      "outputs": []
    },
    {
      "cell_type": "markdown",
      "source": [
        "#### Top Words\n"
      ],
      "metadata": {
        "id": "RbulU7SyigHR"
      }
    },
    {
      "cell_type": "code",
      "source": [
        "#for K = 4\n",
        "topics_4 <- labelTopics(model_4K, n=10)\n",
        "topics_4 <- data.frame(\"features\" = t(topics_4$frex))\n",
        "colnames(topics_4) <- paste(\"Topics\", c(1:4))\n",
        "topics_4"
      ],
      "metadata": {
        "id": "e0FOQFT2iMpd"
      },
      "execution_count": null,
      "outputs": []
    },
    {
      "cell_type": "code",
      "source": [
        "#for K = 6\n",
        "topics_6 <- labelTopics(model_6K, n=10)\n",
        "topics_6 <- data.frame(\"features\" = t(topics_6$frex))\n",
        "colnames(topics_6) <- paste(\"Topics\", c(1:6))\n",
        "topics_6"
      ],
      "metadata": {
        "id": "u3JCdjcSiOVf"
      },
      "execution_count": null,
      "outputs": []
    },
    {
      "cell_type": "markdown",
      "source": [
        "#### Top Documents\n"
      ],
      "metadata": {
        "id": "BpedK0lgimDo"
      }
    },
    {
      "cell_type": "code",
      "source": [
        "findThoughts(model_4K, data$Description, topics = 2 , n = 1)"
      ],
      "metadata": {
        "id": "1QM9JaNuiRVO"
      },
      "execution_count": null,
      "outputs": []
    },
    {
      "cell_type": "markdown",
      "source": [
        "# Running the final model\n"
      ],
      "metadata": {
        "id": "dv7KnYBrflFU"
      }
    },
    {
      "cell_type": "code",
      "source": [
        "# Run the model you decided on\n",
        "model <- stm(documents = dfm_stm$documents,\n",
        "         vocab = dfm_stm$vocab,\n",
        "         K = 4)"
      ],
      "metadata": {
        "id": "lxBGnFU1pnS7"
      },
      "execution_count": null,
      "outputs": []
    },
    {
      "cell_type": "markdown",
      "source": [
        "## Check top words"
      ],
      "metadata": {
        "id": "wZ3Vjh7y1Ci5"
      }
    },
    {
      "cell_type": "code",
      "source": [
        "#Save top 20 features across topics and forms of weighting\n",
        "labels <- labelTopics(model, n = 15)\n",
        "\n",
        "#only keep FREX weighting\n",
        "topwords <- data.frame(\"features\" = t(labels$frex))\n",
        "\n",
        "#assign topic number as column name\n",
        "colnames(topwords) <- paste(\"Topics\", c(1:4))\n",
        "\n",
        "#Return the result\n",
        "topwords[1:4]"
      ],
      "metadata": {
        "id": "My40bV_4fuv0"
      },
      "execution_count": null,
      "outputs": []
    },
    {
      "cell_type": "markdown",
      "source": [
        "## Check top documents per topic"
      ],
      "metadata": {
        "id": "oNUQqb6q1N1T"
      }
    },
    {
      "cell_type": "code",
      "source": [
        "# Create theta matrix\n",
        "theta <- make.dt(model)\n",
        "\n",
        "#Get most representative topics for topic 1\n",
        "theta %>%\n",
        "  arrange(desc(Topic1)) %>%\n",
        "  head()"
      ],
      "metadata": {
        "id": "QHt16Xo-fyWv"
      },
      "execution_count": null,
      "outputs": []
    },
    {
      "cell_type": "code",
      "source": [
        "# Check related topic\n",
        "data$Description[345]"
      ],
      "metadata": {
        "id": "UohglZiUkGfe"
      },
      "execution_count": null,
      "outputs": []
    },
    {
      "cell_type": "markdown",
      "source": [
        "## Visualize topic proportions"
      ],
      "metadata": {
        "id": "DIU7f_9G1SFa"
      }
    },
    {
      "cell_type": "code",
      "source": [
        "plot(model)"
      ],
      "metadata": {
        "id": "sMu3v3Hhfquk"
      },
      "execution_count": null,
      "outputs": []
    }
  ]
}